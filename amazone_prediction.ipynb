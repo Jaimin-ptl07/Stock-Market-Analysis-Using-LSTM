{
 "cells": [
  {
   "cell_type": "code",
   "execution_count": 1,
   "id": "00edad28-741c-457b-aa59-588949fa4032",
   "metadata": {},
   "outputs": [],
   "source": [
    "import pandas as pd\n",
    "import matplotlib as mp\n",
    "import matplotlib.pyplot as plt\n",
    "from sklearn.model_selection import train_test_split\n",
    "from keras.preprocessing.sequence import TimeseriesGenerator\n",
    "from sklearn.preprocessing import MinMaxScaler\n",
    "import tensorflow as tf\n",
    "\n",
    "mp.rcParams['figure.figsize']=(10,8)\n",
    "mp.rcParams['axes.grid']=False"
   ]
  },
  {
   "cell_type": "code",
   "execution_count": 2,
   "id": "b8b1689a-653a-4b27-a253-88eb5eebd116",
   "metadata": {},
   "outputs": [
    {
     "data": {
      "text/plain": [
       "Date                                 datetime64[ns]\n",
       "Current_Assets_in_USD_ in_B                 float64\n",
       "Current_Liailities_in_USD_ in_B             float64\n",
       "Current_Ratio                               float64\n",
       "Long_Term_Det_in_USD_ in_B                  float64\n",
       "Shareholder's_Equityin_USD_ in _B           float64\n",
       "Det_to_Equity_Ratio                         float64\n",
       "Stock_Price                                 float64\n",
       "TTM_Net_EPS                                 float64\n",
       "PE_Ratio                                    float64\n",
       "Book_Value_per_Share_in_USD                 float64\n",
       "Price_to_Book_Ratio                         float64\n",
       "TTM_Sales_per_Share_in _USD                 float64\n",
       "Price_to_Sales_Ratio                        float64\n",
       "TTM_Net_Income                              float64\n",
       "Shareholder's_Equity                        float64\n",
       "Return_on_Equity                            float64\n",
       "dtype: object"
      ]
     },
     "execution_count": 2,
     "metadata": {},
     "output_type": "execute_result"
    }
   ],
   "source": [
    "df = pd.read_csv('AMAZON ALL RATIO.csv')\n",
    "df['Date'] = pd.to_datetime(df['Date'])\n",
    "df.dtypes"
   ]
  },
  {
   "cell_type": "code",
   "execution_count": 3,
   "id": "384d4c7c-6555-4f0f-bb49-a2ea4efd68b2",
   "metadata": {},
   "outputs": [
    {
     "data": {
      "text/html": [
       "<div>\n",
       "<style scoped>\n",
       "    .dataframe tbody tr th:only-of-type {\n",
       "        vertical-align: middle;\n",
       "    }\n",
       "\n",
       "    .dataframe tbody tr th {\n",
       "        vertical-align: top;\n",
       "    }\n",
       "\n",
       "    .dataframe thead th {\n",
       "        text-align: right;\n",
       "    }\n",
       "</style>\n",
       "<table border=\"1\" class=\"dataframe\">\n",
       "  <thead>\n",
       "    <tr style=\"text-align: right;\">\n",
       "      <th></th>\n",
       "      <th>Date</th>\n",
       "      <th>Current_Assets_in_USD_ in_B</th>\n",
       "      <th>Current_Liailities_in_USD_ in_B</th>\n",
       "      <th>Current_Ratio</th>\n",
       "      <th>Long_Term_Det_in_USD_ in_B</th>\n",
       "      <th>Shareholder's_Equityin_USD_ in _B</th>\n",
       "      <th>Det_to_Equity_Ratio</th>\n",
       "      <th>Stock_Price</th>\n",
       "      <th>TTM_Net_EPS</th>\n",
       "      <th>PE_Ratio</th>\n",
       "      <th>Book_Value_per_Share_in_USD</th>\n",
       "      <th>Price_to_Book_Ratio</th>\n",
       "      <th>TTM_Sales_per_Share_in _USD</th>\n",
       "      <th>Price_to_Sales_Ratio</th>\n",
       "      <th>TTM_Net_Income</th>\n",
       "      <th>Shareholder's_Equity</th>\n",
       "      <th>Return_on_Equity</th>\n",
       "    </tr>\n",
       "  </thead>\n",
       "  <tbody>\n",
       "    <tr>\n",
       "      <th>0</th>\n",
       "      <td>2022-03-31</td>\n",
       "      <td>133.88</td>\n",
       "      <td>139.51</td>\n",
       "      <td>0.96</td>\n",
       "      <td>276.77</td>\n",
       "      <td>134.00</td>\n",
       "      <td>2.07</td>\n",
       "      <td>163.00</td>\n",
       "      <td>2.07</td>\n",
       "      <td>78.69</td>\n",
       "      <td>13.16</td>\n",
       "      <td>12.38</td>\n",
       "      <td>46.54</td>\n",
       "      <td>3.50</td>\n",
       "      <td>21.41</td>\n",
       "      <td>134.00</td>\n",
       "      <td>16.87</td>\n",
       "    </tr>\n",
       "    <tr>\n",
       "      <th>1</th>\n",
       "      <td>2021-12-31</td>\n",
       "      <td>161.58</td>\n",
       "      <td>142.27</td>\n",
       "      <td>1.14</td>\n",
       "      <td>282.30</td>\n",
       "      <td>138.25</td>\n",
       "      <td>2.04</td>\n",
       "      <td>166.72</td>\n",
       "      <td>3.24</td>\n",
       "      <td>51.47</td>\n",
       "      <td>13.58</td>\n",
       "      <td>12.28</td>\n",
       "      <td>45.68</td>\n",
       "      <td>3.65</td>\n",
       "      <td>33.36</td>\n",
       "      <td>138.25</td>\n",
       "      <td>27.98</td>\n",
       "    </tr>\n",
       "    <tr>\n",
       "      <th>2</th>\n",
       "      <td>2021-09-30</td>\n",
       "      <td>138.53</td>\n",
       "      <td>123.99</td>\n",
       "      <td>1.12</td>\n",
       "      <td>261.84</td>\n",
       "      <td>120.56</td>\n",
       "      <td>2.17</td>\n",
       "      <td>164.25</td>\n",
       "      <td>2.56</td>\n",
       "      <td>64.26</td>\n",
       "      <td>11.89</td>\n",
       "      <td>13.81</td>\n",
       "      <td>44.64</td>\n",
       "      <td>3.68</td>\n",
       "      <td>26.26</td>\n",
       "      <td>120.56</td>\n",
       "      <td>24.31</td>\n",
       "    </tr>\n",
       "    <tr>\n",
       "      <th>3</th>\n",
       "      <td>2021-06-30</td>\n",
       "      <td>140.85</td>\n",
       "      <td>117.79</td>\n",
       "      <td>1.20</td>\n",
       "      <td>245.52</td>\n",
       "      <td>114.80</td>\n",
       "      <td>2.14</td>\n",
       "      <td>172.01</td>\n",
       "      <td>2.87</td>\n",
       "      <td>59.96</td>\n",
       "      <td>11.34</td>\n",
       "      <td>15.16</td>\n",
       "      <td>43.28</td>\n",
       "      <td>3.97</td>\n",
       "      <td>29.44</td>\n",
       "      <td>114.80</td>\n",
       "      <td>29.86</td>\n",
       "    </tr>\n",
       "    <tr>\n",
       "      <th>4</th>\n",
       "      <td>2021-03-31</td>\n",
       "      <td>121.41</td>\n",
       "      <td>115.40</td>\n",
       "      <td>1.05</td>\n",
       "      <td>219.76</td>\n",
       "      <td>103.32</td>\n",
       "      <td>2.13</td>\n",
       "      <td>154.70</td>\n",
       "      <td>2.63</td>\n",
       "      <td>58.88</td>\n",
       "      <td>10.25</td>\n",
       "      <td>15.09</td>\n",
       "      <td>41.01</td>\n",
       "      <td>3.77</td>\n",
       "      <td>26.90</td>\n",
       "      <td>103.32</td>\n",
       "      <td>30.47</td>\n",
       "    </tr>\n",
       "  </tbody>\n",
       "</table>\n",
       "</div>"
      ],
      "text/plain": [
       "        Date  Current_Assets_in_USD_ in_B  Current_Liailities_in_USD_ in_B  \\\n",
       "0 2022-03-31                       133.88                           139.51   \n",
       "1 2021-12-31                       161.58                           142.27   \n",
       "2 2021-09-30                       138.53                           123.99   \n",
       "3 2021-06-30                       140.85                           117.79   \n",
       "4 2021-03-31                       121.41                           115.40   \n",
       "\n",
       "   Current_Ratio  Long_Term_Det_in_USD_ in_B  \\\n",
       "0           0.96                      276.77   \n",
       "1           1.14                      282.30   \n",
       "2           1.12                      261.84   \n",
       "3           1.20                      245.52   \n",
       "4           1.05                      219.76   \n",
       "\n",
       "   Shareholder's_Equityin_USD_ in _B  Det_to_Equity_Ratio  Stock_Price  \\\n",
       "0                             134.00                 2.07       163.00   \n",
       "1                             138.25                 2.04       166.72   \n",
       "2                             120.56                 2.17       164.25   \n",
       "3                             114.80                 2.14       172.01   \n",
       "4                             103.32                 2.13       154.70   \n",
       "\n",
       "   TTM_Net_EPS  PE_Ratio  Book_Value_per_Share_in_USD  Price_to_Book_Ratio  \\\n",
       "0         2.07     78.69                        13.16                12.38   \n",
       "1         3.24     51.47                        13.58                12.28   \n",
       "2         2.56     64.26                        11.89                13.81   \n",
       "3         2.87     59.96                        11.34                15.16   \n",
       "4         2.63     58.88                        10.25                15.09   \n",
       "\n",
       "   TTM_Sales_per_Share_in _USD  Price_to_Sales_Ratio  TTM_Net_Income  \\\n",
       "0                        46.54                  3.50           21.41   \n",
       "1                        45.68                  3.65           33.36   \n",
       "2                        44.64                  3.68           26.26   \n",
       "3                        43.28                  3.97           29.44   \n",
       "4                        41.01                  3.77           26.90   \n",
       "\n",
       "   Shareholder's_Equity  Return_on_Equity  \n",
       "0                134.00             16.87  \n",
       "1                138.25             27.98  \n",
       "2                120.56             24.31  \n",
       "3                114.80             29.86  \n",
       "4                103.32             30.47  "
      ]
     },
     "execution_count": 3,
     "metadata": {},
     "output_type": "execute_result"
    }
   ],
   "source": [
    "df.head()"
   ]
  },
  {
   "cell_type": "code",
   "execution_count": 4,
   "id": "13b04456-100d-4e55-8242-d3e50ee2825a",
   "metadata": {},
   "outputs": [],
   "source": [
    "#df = df.reindex(columns=['Year','GDPPerCapitaUSD','AnnualGrowthRate','UnemploymentRate','InflationRate','GovernmentDebt%ofGDP','MarketCapitalGDPRatio','Import_USD','Export_USD','Import-Export_USD','Life_Expectancy'])\n",
    "#df.head()"
   ]
  },
  {
   "cell_type": "code",
   "execution_count": 5,
   "id": "af9b354d-668f-431a-93e8-99e6fb1c72bc",
   "metadata": {},
   "outputs": [
    {
     "data": {
      "text/plain": [
       "array([<AxesSubplot:xlabel='Date'>, <AxesSubplot:xlabel='Date'>,\n",
       "       <AxesSubplot:xlabel='Date'>], dtype=object)"
      ]
     },
     "execution_count": 5,
     "metadata": {},
     "output_type": "execute_result"
    },
    {
     "data": {
      "image/png": "[encoded data removed]",
      "text/plain": [
       "<Figure size 720x576 with 3 Axes>"
      ]
     },
     "metadata": {
      "needs_background": "light"
     },
     "output_type": "display_data"
    }
   ],
   "source": [
    "df.set_index('Date')[['Stock_Price','TTM_Net_EPS','PE_Ratio']].plot(subplots=True)"
   ]
  },
  {
   "cell_type": "code",
   "execution_count": 6,
   "id": "25f33aa2-6a18-4936-ac91-e09db066ae3a",
   "metadata": {},
   "outputs": [],
   "source": [
    "df_input = df[['Date','PE_Ratio','Stock_Price','TTM_Net_EPS']]"
   ]
  },
  {
   "cell_type": "code",
   "execution_count": 7,
   "id": "af1fe3dc-1c9f-4bb8-94c3-f557e024fff1",
   "metadata": {},
   "outputs": [],
   "source": [
    "df_input = df_input.set_index('Date')"
   ]
  },
  {
   "cell_type": "code",
   "execution_count": 8,
   "id": "ae1e3205-cc5e-405c-af67-827c3a0d88fa",
   "metadata": {},
   "outputs": [
    {
     "data": {
      "text/html": [
       "<div>\n",
       "<style scoped>\n",
       "    .dataframe tbody tr th:only-of-type {\n",
       "        vertical-align: middle;\n",
       "    }\n",
       "\n",
       "    .dataframe tbody tr th {\n",
       "        vertical-align: top;\n",
       "    }\n",
       "\n",
       "    .dataframe thead th {\n",
       "        text-align: right;\n",
       "    }\n",
       "</style>\n",
       "<table border=\"1\" class=\"dataframe\">\n",
       "  <thead>\n",
       "    <tr style=\"text-align: right;\">\n",
       "      <th></th>\n",
       "      <th>PE_Ratio</th>\n",
       "      <th>Stock_Price</th>\n",
       "      <th>TTM_Net_EPS</th>\n",
       "    </tr>\n",
       "    <tr>\n",
       "      <th>Date</th>\n",
       "      <th></th>\n",
       "      <th></th>\n",
       "      <th></th>\n",
       "    </tr>\n",
       "  </thead>\n",
       "  <tbody>\n",
       "    <tr>\n",
       "      <th>2022-03-31</th>\n",
       "      <td>78.690000</td>\n",
       "      <td>163.000000</td>\n",
       "      <td>2.070000</td>\n",
       "    </tr>\n",
       "    <tr>\n",
       "      <th>2021-12-31</th>\n",
       "      <td>51.470000</td>\n",
       "      <td>166.720000</td>\n",
       "      <td>3.240000</td>\n",
       "    </tr>\n",
       "    <tr>\n",
       "      <th>2021-09-30</th>\n",
       "      <td>64.260000</td>\n",
       "      <td>164.250000</td>\n",
       "      <td>2.560000</td>\n",
       "    </tr>\n",
       "    <tr>\n",
       "      <th>2021-06-30</th>\n",
       "      <td>59.960000</td>\n",
       "      <td>172.010000</td>\n",
       "      <td>2.870000</td>\n",
       "    </tr>\n",
       "    <tr>\n",
       "      <th>2021-03-31</th>\n",
       "      <td>58.880000</td>\n",
       "      <td>154.700000</td>\n",
       "      <td>2.630000</td>\n",
       "    </tr>\n",
       "    <tr>\n",
       "      <th>2020-12-31</th>\n",
       "      <td>77.970000</td>\n",
       "      <td>162.850000</td>\n",
       "      <td>2.090000</td>\n",
       "    </tr>\n",
       "    <tr>\n",
       "      <th>2020-09-30</th>\n",
       "      <td>92.200000</td>\n",
       "      <td>157.440000</td>\n",
       "      <td>1.710000</td>\n",
       "    </tr>\n",
       "    <tr>\n",
       "      <th>2020-06-30</th>\n",
       "      <td>106.070000</td>\n",
       "      <td>137.940000</td>\n",
       "      <td>1.300000</td>\n",
       "    </tr>\n",
       "    <tr>\n",
       "      <th>2020-03-31</th>\n",
       "      <td>93.150000</td>\n",
       "      <td>97.490000</td>\n",
       "      <td>1.050000</td>\n",
       "    </tr>\n",
       "    <tr>\n",
       "      <th>2019-12-31</th>\n",
       "      <td>80.310000</td>\n",
       "      <td>92.390000</td>\n",
       "      <td>1.150000</td>\n",
       "    </tr>\n",
       "    <tr>\n",
       "      <th>2019-09-30</th>\n",
       "      <td>76.880000</td>\n",
       "      <td>86.800000</td>\n",
       "      <td>1.130000</td>\n",
       "    </tr>\n",
       "    <tr>\n",
       "      <th>2019-06-30</th>\n",
       "      <td>78.570000</td>\n",
       "      <td>94.680000</td>\n",
       "      <td>1.210000</td>\n",
       "    </tr>\n",
       "    <tr>\n",
       "      <th>2019-03-31</th>\n",
       "      <td>74.350000</td>\n",
       "      <td>89.040000</td>\n",
       "      <td>1.200000</td>\n",
       "    </tr>\n",
       "    <tr>\n",
       "      <th>2018-12-31</th>\n",
       "      <td>74.610000</td>\n",
       "      <td>75.100000</td>\n",
       "      <td>1.010000</td>\n",
       "    </tr>\n",
       "    <tr>\n",
       "      <th>2018-09-30</th>\n",
       "      <td>112.280000</td>\n",
       "      <td>100.150000</td>\n",
       "      <td>0.890000</td>\n",
       "    </tr>\n",
       "    <tr>\n",
       "      <th>2018-06-30</th>\n",
       "      <td>134.800000</td>\n",
       "      <td>84.990000</td>\n",
       "      <td>0.630000</td>\n",
       "    </tr>\n",
       "    <tr>\n",
       "      <th>2018-03-31</th>\n",
       "      <td>182.280000</td>\n",
       "      <td>72.370000</td>\n",
       "      <td>0.400000</td>\n",
       "    </tr>\n",
       "    <tr>\n",
       "      <th>2017-12-31</th>\n",
       "      <td>190.160000</td>\n",
       "      <td>58.470000</td>\n",
       "      <td>0.310000</td>\n",
       "    </tr>\n",
       "    <tr>\n",
       "      <th>2017-09-30</th>\n",
       "      <td>244.000000</td>\n",
       "      <td>48.070000</td>\n",
       "      <td>0.200000</td>\n",
       "    </tr>\n",
       "    <tr>\n",
       "      <th>2017-06-30</th>\n",
       "      <td>245.690000</td>\n",
       "      <td>48.400000</td>\n",
       "      <td>0.200000</td>\n",
       "    </tr>\n",
       "    <tr>\n",
       "      <th>2017-03-31</th>\n",
       "      <td>166.640000</td>\n",
       "      <td>44.330000</td>\n",
       "      <td>0.270000</td>\n",
       "    </tr>\n",
       "    <tr>\n",
       "      <th>2016-12-31</th>\n",
       "      <td>152.720000</td>\n",
       "      <td>37.490000</td>\n",
       "      <td>0.250000</td>\n",
       "    </tr>\n",
       "    <tr>\n",
       "      <th>2016-09-30</th>\n",
       "      <td>191.600000</td>\n",
       "      <td>41.870000</td>\n",
       "      <td>0.220000</td>\n",
       "    </tr>\n",
       "    <tr>\n",
       "      <th>2016-06-30</th>\n",
       "      <td>178.010000</td>\n",
       "      <td>35.780000</td>\n",
       "      <td>0.200000</td>\n",
       "    </tr>\n",
       "    <tr>\n",
       "      <th>2016-03-31</th>\n",
       "      <td>244.300000</td>\n",
       "      <td>29.680000</td>\n",
       "      <td>0.120000</td>\n",
       "    </tr>\n",
       "    <tr>\n",
       "      <th>2015-12-31</th>\n",
       "      <td>545.070000</td>\n",
       "      <td>33.790000</td>\n",
       "      <td>0.060000</td>\n",
       "    </tr>\n",
       "    <tr>\n",
       "      <th>2015-09-30</th>\n",
       "      <td>741.550000</td>\n",
       "      <td>25.580000</td>\n",
       "      <td>0.030000</td>\n",
       "    </tr>\n",
       "    <tr>\n",
       "      <th>2015-06-30</th>\n",
       "      <td>0.000000</td>\n",
       "      <td>21.700000</td>\n",
       "      <td>-0.020000</td>\n",
       "    </tr>\n",
       "    <tr>\n",
       "      <th>2015-03-31</th>\n",
       "      <td>0.000000</td>\n",
       "      <td>18.610000</td>\n",
       "      <td>-0.040000</td>\n",
       "    </tr>\n",
       "    <tr>\n",
       "      <th>2014-12-31</th>\n",
       "      <td>0.000000</td>\n",
       "      <td>15.520000</td>\n",
       "      <td>-0.030000</td>\n",
       "    </tr>\n",
       "    <tr>\n",
       "      <th>2014-09-30</th>\n",
       "      <td>0.000000</td>\n",
       "      <td>16.120000</td>\n",
       "      <td>-0.020000</td>\n",
       "    </tr>\n",
       "    <tr>\n",
       "      <th>2014-06-30</th>\n",
       "      <td>854.680000</td>\n",
       "      <td>16.240000</td>\n",
       "      <td>0.020000</td>\n",
       "    </tr>\n",
       "    <tr>\n",
       "      <th>2014-03-31</th>\n",
       "      <td>533.910000</td>\n",
       "      <td>16.820000</td>\n",
       "      <td>0.030000</td>\n",
       "    </tr>\n",
       "    <tr>\n",
       "      <th>2013-12-31</th>\n",
       "      <td>687.570000</td>\n",
       "      <td>19.940000</td>\n",
       "      <td>0.030000</td>\n",
       "    </tr>\n",
       "    <tr>\n",
       "      <th>2013-09-30</th>\n",
       "      <td>1116.570000</td>\n",
       "      <td>15.630000</td>\n",
       "      <td>0.010000</td>\n",
       "    </tr>\n",
       "    <tr>\n",
       "      <th>2013-06-30</th>\n",
       "      <td>0.000000</td>\n",
       "      <td>13.880000</td>\n",
       "      <td>-0.010000</td>\n",
       "    </tr>\n",
       "    <tr>\n",
       "      <th>2013-03-31</th>\n",
       "      <td>0.000000</td>\n",
       "      <td>13.320000</td>\n",
       "      <td>-0.010000</td>\n",
       "    </tr>\n",
       "    <tr>\n",
       "      <th>2012-12-31</th>\n",
       "      <td>0.000000</td>\n",
       "      <td>12.540000</td>\n",
       "      <td>0.000000</td>\n",
       "    </tr>\n",
       "    <tr>\n",
       "      <th>2012-09-30</th>\n",
       "      <td>0.000000</td>\n",
       "      <td>12.720000</td>\n",
       "      <td>0.000000</td>\n",
       "    </tr>\n",
       "    <tr>\n",
       "      <th>2012-06-30</th>\n",
       "      <td>281.910000</td>\n",
       "      <td>11.420000</td>\n",
       "      <td>0.040000</td>\n",
       "    </tr>\n",
       "    <tr>\n",
       "      <th>2012-03-31</th>\n",
       "      <td>167.360000</td>\n",
       "      <td>10.130000</td>\n",
       "      <td>0.060000</td>\n",
       "    </tr>\n",
       "    <tr>\n",
       "      <th>2011-12-31</th>\n",
       "      <td>126.350000</td>\n",
       "      <td>8.660000</td>\n",
       "      <td>0.070000</td>\n",
       "    </tr>\n",
       "    <tr>\n",
       "      <th>2011-09-30</th>\n",
       "      <td>113.810000</td>\n",
       "      <td>10.810000</td>\n",
       "      <td>0.100000</td>\n",
       "    </tr>\n",
       "    <tr>\n",
       "      <th>2011-06-30</th>\n",
       "      <td>90.080000</td>\n",
       "      <td>10.220000</td>\n",
       "      <td>0.110000</td>\n",
       "    </tr>\n",
       "    <tr>\n",
       "      <th>2011-03-31</th>\n",
       "      <td>77.980000</td>\n",
       "      <td>9.010000</td>\n",
       "      <td>0.120000</td>\n",
       "    </tr>\n",
       "    <tr>\n",
       "      <th>2010-12-31</th>\n",
       "      <td>71.150000</td>\n",
       "      <td>9.000000</td>\n",
       "      <td>0.130000</td>\n",
       "    </tr>\n",
       "    <tr>\n",
       "      <th>2010-09-30</th>\n",
       "      <td>63.590000</td>\n",
       "      <td>7.850000</td>\n",
       "      <td>0.120000</td>\n",
       "    </tr>\n",
       "    <tr>\n",
       "      <th>2010-06-30</th>\n",
       "      <td>45.340000</td>\n",
       "      <td>5.460000</td>\n",
       "      <td>0.120000</td>\n",
       "    </tr>\n",
       "    <tr>\n",
       "      <th>2010-03-31</th>\n",
       "      <td>59.550000</td>\n",
       "      <td>6.790000</td>\n",
       "      <td>0.110000</td>\n",
       "    </tr>\n",
       "    <tr>\n",
       "      <th>2009-12-31</th>\n",
       "      <td>66.270000</td>\n",
       "      <td>6.730000</td>\n",
       "      <td>0.100000</td>\n",
       "    </tr>\n",
       "    <tr>\n",
       "      <th>2009-09-30</th>\n",
       "      <td>175.051800</td>\n",
       "      <td>55.290000</td>\n",
       "      <td>0.600800</td>\n",
       "    </tr>\n",
       "    <tr>\n",
       "      <th>2009-06-30</th>\n",
       "      <td>176.979036</td>\n",
       "      <td>53.135800</td>\n",
       "      <td>0.571416</td>\n",
       "    </tr>\n",
       "    <tr>\n",
       "      <th>2009-03-31</th>\n",
       "      <td>179.489217</td>\n",
       "      <td>50.864116</td>\n",
       "      <td>0.518044</td>\n",
       "    </tr>\n",
       "  </tbody>\n",
       "</table>\n",
       "</div>"
      ],
      "text/plain": [
       "               PE_Ratio  Stock_Price  TTM_Net_EPS\n",
       "Date                                             \n",
       "2022-03-31    78.690000   163.000000     2.070000\n",
       "2021-12-31    51.470000   166.720000     3.240000\n",
       "2021-09-30    64.260000   164.250000     2.560000\n",
       "2021-06-30    59.960000   172.010000     2.870000\n",
       "2021-03-31    58.880000   154.700000     2.630000\n",
       "2020-12-31    77.970000   162.850000     2.090000\n",
       "2020-09-30    92.200000   157.440000     1.710000\n",
       "2020-06-30   106.070000   137.940000     1.300000\n",
       "2020-03-31    93.150000    97.490000     1.050000\n",
       "2019-12-31    80.310000    92.390000     1.150000\n",
       "2019-09-30    76.880000    86.800000     1.130000\n",
       "2019-06-30    78.570000    94.680000     1.210000\n",
       "2019-03-31    74.350000    89.040000     1.200000\n",
       "2018-12-31    74.610000    75.100000     1.010000\n",
       "2018-09-30   112.280000   100.150000     0.890000\n",
       "2018-06-30   134.800000    84.990000     0.630000\n",
       "2018-03-31   182.280000    72.370000     0.400000\n",
       "2017-12-31   190.160000    58.470000     0.310000\n",
       "2017-09-30   244.000000    48.070000     0.200000\n",
       "2017-06-30   245.690000    48.400000     0.200000\n",
       "2017-03-31   166.640000    44.330000     0.270000\n",
       "2016-12-31   152.720000    37.490000     0.250000\n",
       "2016-09-30   191.600000    41.870000     0.220000\n",
       "2016-06-30   178.010000    35.780000     0.200000\n",
       "2016-03-31   244.300000    29.680000     0.120000\n",
       "2015-12-31   545.070000    33.790000     0.060000\n",
       "2015-09-30   741.550000    25.580000     0.030000\n",
       "2015-06-30     0.000000    21.700000    -0.020000\n",
       "2015-03-31     0.000000    18.610000    -0.040000\n",
       "2014-12-31     0.000000    15.520000    -0.030000\n",
       "2014-09-30     0.000000    16.120000    -0.020000\n",
       "2014-06-30   854.680000    16.240000     0.020000\n",
       "2014-03-31   533.910000    16.820000     0.030000\n",
       "2013-12-31   687.570000    19.940000     0.030000\n",
       "2013-09-30  1116.570000    15.630000     0.010000\n",
       "2013-06-30     0.000000    13.880000    -0.010000\n",
       "2013-03-31     0.000000    13.320000    -0.010000\n",
       "2012-12-31     0.000000    12.540000     0.000000\n",
       "2012-09-30     0.000000    12.720000     0.000000\n",
       "2012-06-30   281.910000    11.420000     0.040000\n",
       "2012-03-31   167.360000    10.130000     0.060000\n",
       "2011-12-31   126.350000     8.660000     0.070000\n",
       "2011-09-30   113.810000    10.810000     0.100000\n",
       "2011-06-30    90.080000    10.220000     0.110000\n",
       "2011-03-31    77.980000     9.010000     0.120000\n",
       "2010-12-31    71.150000     9.000000     0.130000\n",
       "2010-09-30    63.590000     7.850000     0.120000\n",
       "2010-06-30    45.340000     5.460000     0.120000\n",
       "2010-03-31    59.550000     6.790000     0.110000\n",
       "2009-12-31    66.270000     6.730000     0.100000\n",
       "2009-09-30   175.051800    55.290000     0.600800\n",
       "2009-06-30   176.979036    53.135800     0.571416\n",
       "2009-03-31   179.489217    50.864116     0.518044"
      ]
     },
     "execution_count": 8,
     "metadata": {},
     "output_type": "execute_result"
    }
   ],
   "source": [
    "df_input"
   ]
  },
  {
   "cell_type": "code",
   "execution_count": 9,
   "id": "321c2273-e252-40dd-845d-9d9d9a57b0be",
   "metadata": {},
   "outputs": [],
   "source": [
    "scaler = MinMaxScaler()\n",
    "data_scaled = scaler.fit_transform(df_input)"
   ]
  },
  {
   "cell_type": "code",
   "execution_count": 10,
   "id": "57509daf-d425-4ed0-a1c3-474f077a3579",
   "metadata": {},
   "outputs": [
    {
     "data": {
      "text/plain": [
       "array([[0.07047476, 0.94590213, 0.64329268],\n",
       "       [0.04609653, 0.96823777, 1.        ],\n",
       "       [0.05755125, 0.95340739, 0.79268293],\n",
       "       [0.05370017, 1.        , 0.88719512],\n",
       "       [0.05273292, 0.89606725, 0.81402439],\n",
       "       [0.06982993, 0.9450015 , 0.64939024],\n",
       "       [0.08257431, 0.91251876, 0.53353659],\n",
       "       [0.09499628, 0.79543681, 0.40853659],\n",
       "       [0.08342513, 0.5525668 , 0.33231707],\n",
       "       [0.07192563, 0.52194536, 0.36280488],\n",
       "       [0.06885372, 0.48838187, 0.35670732],\n",
       "       [0.07036729, 0.53569499, 0.38109756],\n",
       "       [0.06658785, 0.50183128, 0.37804878],\n",
       "       [0.06682071, 0.41813269, 0.32012195],\n",
       "       [0.10055796, 0.56853798, 0.28353659],\n",
       "       [0.12072687, 0.47751426, 0.20426829],\n",
       "       [0.16324995, 0.40174122, 0.13414634],\n",
       "       [0.17030728, 0.3182828 , 0.10670732],\n",
       "       [0.21852638, 0.25583909, 0.07317073],\n",
       "       [0.22003994, 0.25782047, 0.07317073],\n",
       "       [0.14924277, 0.23338337, 0.0945122 ],\n",
       "       [0.13677602, 0.19231462, 0.08841463],\n",
       "       [0.17159694, 0.21861303, 0.07926829],\n",
       "       [0.15942574, 0.18204743, 0.07317073],\n",
       "       [0.21879506, 0.1454218 , 0.04878049],\n",
       "       [0.48816465, 0.17009907, 0.0304878 ],\n",
       "       [0.66413212, 0.12080456, 0.02134146],\n",
       "       [0.        , 0.09750826, 0.00609756],\n",
       "       [0.        , 0.07895527, 0.        ],\n",
       "       [0.        , 0.06040228, 0.00304878],\n",
       "       [0.        , 0.0640048 , 0.00609756],\n",
       "       [0.76545134, 0.06472531, 0.01829268],\n",
       "       [0.47816975, 0.06820775, 0.02134146],\n",
       "       [0.61578764, 0.08694086, 0.02134146],\n",
       "       [1.        , 0.06106274, 0.0152439 ],\n",
       "       [0.        , 0.05055539, 0.00914634],\n",
       "       [0.        , 0.04719304, 0.00914634],\n",
       "       [0.        , 0.04250976, 0.01219512],\n",
       "       [0.        , 0.04359051, 0.01219512],\n",
       "       [0.25247857, 0.03578505, 0.02439024],\n",
       "       [0.1498876 , 0.02803963, 0.0304878 ],\n",
       "       [0.11315905, 0.01921345, 0.03353659],\n",
       "       [0.10192823, 0.03212249, 0.04268293],\n",
       "       [0.08067564, 0.02858001, 0.04573171],\n",
       "       [0.06983888, 0.02131492, 0.04878049],\n",
       "       [0.06372193, 0.02125488, 0.05182927],\n",
       "       [0.0569512 , 0.01435005, 0.04878049],\n",
       "       [0.0406065 , 0.        , 0.04878049],\n",
       "       [0.05333298, 0.00798559, 0.04573171],\n",
       "       [0.05935141, 0.00762534, 0.04268293],\n",
       "       [0.15677638, 0.29918943, 0.19536585],\n",
       "       [0.15850241, 0.28625518, 0.18640732],\n",
       "       [0.16075053, 0.27261553, 0.17013546]])"
      ]
     },
     "execution_count": 10,
     "metadata": {},
     "output_type": "execute_result"
    }
   ],
   "source": [
    "data_scaled"
   ]
  },
  {
   "cell_type": "code",
   "execution_count": 11,
   "id": "698ef0b7-3140-4295-86b9-6e807389d2db",
   "metadata": {},
   "outputs": [],
   "source": [
    "features = data_scaled\n",
    "target = data_scaled[:,0]"
   ]
  },
  {
   "cell_type": "code",
   "execution_count": 12,
   "id": "9d1882c2-e360-47a3-9657-d4301b279aa2",
   "metadata": {},
   "outputs": [
    {
     "data": {
      "text/plain": [
       "(array([[[0.07047476, 0.94590213, 0.64329268]]]), array([0.04609653]))"
      ]
     },
     "execution_count": 12,
     "metadata": {},
     "output_type": "execute_result"
    }
   ],
   "source": [
    "TimeseriesGenerator(features, target, length=1 , sampling_rate=1, batch_size=1)[0]"
   ]
  },
  {
   "cell_type": "code",
   "execution_count": 13,
   "id": "7f8335f6-d60f-49a3-836a-8e59fbc8c528",
   "metadata": {},
   "outputs": [],
   "source": [
    "x_train, x_test, y_train, y_test = train_test_split(features, target, test_size=0.20, random_state=123, shuffle=False)"
   ]
  },
  {
   "cell_type": "code",
   "execution_count": 14,
   "id": "17becae8-f6b2-4557-a714-3459467d150c",
   "metadata": {},
   "outputs": [
    {
     "data": {
      "text/plain": [
       "(42, 3)"
      ]
     },
     "execution_count": 14,
     "metadata": {},
     "output_type": "execute_result"
    }
   ],
   "source": [
    "x_train.shape"
   ]
  },
  {
   "cell_type": "code",
   "execution_count": 15,
   "id": "c3ee2849-fa85-45dc-8ebc-75b04451a935",
   "metadata": {},
   "outputs": [
    {
     "data": {
      "text/plain": [
       "(11, 3)"
      ]
     },
     "execution_count": 15,
     "metadata": {},
     "output_type": "execute_result"
    }
   ],
   "source": [
    "x_test.shape"
   ]
  },
  {
   "cell_type": "code",
   "execution_count": 16,
   "id": "d6d1cb00-1b4a-414b-aea7-3c4d93256d44",
   "metadata": {},
   "outputs": [],
   "source": [
    "win_length = 1\n",
    "batch_size = 10\n",
    "num_features = 3\n",
    "train_generator = TimeseriesGenerator(x_train,y_train,length=win_length,sampling_rate=1,batch_size=batch_size)\n",
    "test_generator = TimeseriesGenerator(x_test,y_test,length=win_length,sampling_rate=1,batch_size=batch_size)"
   ]
  },
  {
   "cell_type": "code",
   "execution_count": 17,
   "id": "e090da3a-13ac-4830-930e-e2fe5143b92c",
   "metadata": {},
   "outputs": [
    {
     "data": {
      "text/plain": [
       "(array([[[0.07047476, 0.94590213, 0.64329268]],\n",
       " \n",
       "        [[0.04609653, 0.96823777, 1.        ]],\n",
       " \n",
       "        [[0.05755125, 0.95340739, 0.79268293]],\n",
       " \n",
       "        [[0.05370017, 1.        , 0.88719512]],\n",
       " \n",
       "        [[0.05273292, 0.89606725, 0.81402439]],\n",
       " \n",
       "        [[0.06982993, 0.9450015 , 0.64939024]],\n",
       " \n",
       "        [[0.08257431, 0.91251876, 0.53353659]],\n",
       " \n",
       "        [[0.09499628, 0.79543681, 0.40853659]],\n",
       " \n",
       "        [[0.08342513, 0.5525668 , 0.33231707]],\n",
       " \n",
       "        [[0.07192563, 0.52194536, 0.36280488]]]),\n",
       " array([0.04609653, 0.05755125, 0.05370017, 0.05273292, 0.06982993,\n",
       "        0.08257431, 0.09499628, 0.08342513, 0.07192563, 0.06885372]))"
      ]
     },
     "execution_count": 17,
     "metadata": {},
     "output_type": "execute_result"
    }
   ],
   "source": [
    "train_generator[0]"
   ]
  },
  {
   "cell_type": "code",
   "execution_count": 18,
   "id": "a9e5f672-fbb7-4870-9f5e-23acce21af2f",
   "metadata": {},
   "outputs": [],
   "source": [
    "model = tf.keras.Sequential()\n",
    "model.add(tf.keras.layers.LSTM(120, input_shape=(win_length,num_features), return_sequences=True, activation=tf.nn.relu))\n",
    "model.add(tf.keras.layers.Dropout(0.5))\n",
    "\n",
    "model.add(tf.keras.layers.LSTM(60, return_sequences=True, activation=tf.nn.relu))\n",
    "model.add(tf.keras.layers.Dropout(0.3))\n",
    "\n",
    "model.add(tf.keras.layers.LSTM(80, return_sequences=False))\n",
    "model.add(tf.keras.layers.Dropout(0.3))\n",
    "model.add(tf.keras.layers.Dense(1))"
   ]
  },
  {
   "cell_type": "code",
   "execution_count": 19,
   "id": "b976c79f-2d43-4f5e-9429-f30456c773d8",
   "metadata": {},
   "outputs": [
    {
     "name": "stdout",
     "output_type": "stream",
     "text": [
      "Model: \"sequential\"\n",
      "_________________________________________________________________\n",
      " Layer (type)                Output Shape              Param #   \n",
      "=================================================================\n",
      " lstm (LSTM)                 (None, 1, 120)            59520     \n",
      "                                                                 \n",
      " dropout (Dropout)           (None, 1, 120)            0         \n",
      "                                                                 \n",
      " lstm_1 (LSTM)               (None, 1, 60)             43440     \n",
      "                                                                 \n",
      " dropout_1 (Dropout)         (None, 1, 60)             0         \n",
      "                                                                 \n",
      " lstm_2 (LSTM)               (None, 80)                45120     \n",
      "                                                                 \n",
      " dropout_2 (Dropout)         (None, 80)                0         \n",
      "                                                                 \n",
      " dense (Dense)               (None, 1)                 81        \n",
      "                                                                 \n",
      "=================================================================\n",
      "Total params: 148,161\n",
      "Trainable params: 148,161\n",
      "Non-trainable params: 0\n",
      "_________________________________________________________________\n"
     ]
    }
   ],
   "source": [
    "model.summary()"
   ]
  },
  {
   "cell_type": "code",
   "execution_count": 20,
   "id": "6524a21b-fe49-4312-ada4-99e7b7903680",
   "metadata": {},
   "outputs": [
    {
     "name": "stdout",
     "output_type": "stream",
     "text": [
      "Epoch 1/25\n",
      "5/5 [==============================] - 6s 182ms/step - loss: 0.0788 - mean_absolute_error: 0.1741 - val_loss: 0.0072 - val_mean_absolute_error: 0.0711\n",
      "Epoch 2/25\n",
      "5/5 [==============================] - 0s 11ms/step - loss: 0.0730 - mean_absolute_error: 0.1626 - val_loss: 0.0049 - val_mean_absolute_error: 0.0527\n",
      "Epoch 3/25\n",
      "5/5 [==============================] - 0s 10ms/step - loss: 0.0671 - mean_absolute_error: 0.1496 - val_loss: 0.0032 - val_mean_absolute_error: 0.0369\n",
      "Epoch 4/25\n",
      "5/5 [==============================] - 0s 10ms/step - loss: 0.0621 - mean_absolute_error: 0.1390 - val_loss: 0.0022 - val_mean_absolute_error: 0.0362\n",
      "Epoch 5/25\n",
      "5/5 [==============================] - 0s 10ms/step - loss: 0.0582 - mean_absolute_error: 0.1358 - val_loss: 0.0021 - val_mean_absolute_error: 0.0436\n",
      "Epoch 6/25\n",
      "5/5 [==============================] - 0s 10ms/step - loss: 0.0553 - mean_absolute_error: 0.1380 - val_loss: 0.0028 - val_mean_absolute_error: 0.0514\n",
      "Epoch 7/25\n",
      "5/5 [==============================] - 0s 10ms/step - loss: 0.0527 - mean_absolute_error: 0.1378 - val_loss: 0.0042 - val_mean_absolute_error: 0.0585\n",
      "Epoch 8/25\n",
      "5/5 [==============================] - 0s 10ms/step - loss: 0.0512 - mean_absolute_error: 0.1442 - val_loss: 0.0057 - val_mean_absolute_error: 0.0641\n",
      "Epoch 9/25\n",
      "5/5 [==============================] - 0s 10ms/step - loss: 0.0513 - mean_absolute_error: 0.1445 - val_loss: 0.0070 - val_mean_absolute_error: 0.0712\n",
      "Epoch 10/25\n",
      "5/5 [==============================] - 0s 11ms/step - loss: 0.0505 - mean_absolute_error: 0.1507 - val_loss: 0.0080 - val_mean_absolute_error: 0.0774\n",
      "Epoch 11/25\n",
      "5/5 [==============================] - 0s 11ms/step - loss: 0.0491 - mean_absolute_error: 0.1533 - val_loss: 0.0084 - val_mean_absolute_error: 0.0798\n",
      "Epoch 12/25\n",
      "5/5 [==============================] - 0s 11ms/step - loss: 0.0522 - mean_absolute_error: 0.1557 - val_loss: 0.0084 - val_mean_absolute_error: 0.0796\n",
      "Epoch 13/25\n",
      "5/5 [==============================] - 0s 10ms/step - loss: 0.0496 - mean_absolute_error: 0.1502 - val_loss: 0.0081 - val_mean_absolute_error: 0.0777\n",
      "Epoch 14/25\n",
      "5/5 [==============================] - 0s 10ms/step - loss: 0.0481 - mean_absolute_error: 0.1457 - val_loss: 0.0080 - val_mean_absolute_error: 0.0770\n",
      "Epoch 15/25\n",
      "5/5 [==============================] - 0s 11ms/step - loss: 0.0500 - mean_absolute_error: 0.1478 - val_loss: 0.0081 - val_mean_absolute_error: 0.0776\n",
      "Epoch 16/25\n",
      "5/5 [==============================] - 0s 10ms/step - loss: 0.0486 - mean_absolute_error: 0.1469 - val_loss: 0.0081 - val_mean_absolute_error: 0.0772\n",
      "Epoch 17/25\n",
      "5/5 [==============================] - 0s 10ms/step - loss: 0.0487 - mean_absolute_error: 0.1483 - val_loss: 0.0079 - val_mean_absolute_error: 0.0755\n",
      "Epoch 18/25\n",
      "5/5 [==============================] - 0s 10ms/step - loss: 0.0492 - mean_absolute_error: 0.1453 - val_loss: 0.0075 - val_mean_absolute_error: 0.0730\n",
      "Epoch 19/25\n",
      "5/5 [==============================] - 0s 11ms/step - loss: 0.0469 - mean_absolute_error: 0.1417 - val_loss: 0.0073 - val_mean_absolute_error: 0.0721\n",
      "Epoch 20/25\n",
      "5/5 [==============================] - 0s 10ms/step - loss: 0.0477 - mean_absolute_error: 0.1371 - val_loss: 0.0074 - val_mean_absolute_error: 0.0727\n",
      "Epoch 21/25\n",
      "5/5 [==============================] - 0s 10ms/step - loss: 0.0477 - mean_absolute_error: 0.1386 - val_loss: 0.0079 - val_mean_absolute_error: 0.0750\n",
      "Epoch 22/25\n",
      "5/5 [==============================] - 0s 10ms/step - loss: 0.0458 - mean_absolute_error: 0.1358 - val_loss: 0.0085 - val_mean_absolute_error: 0.0785\n",
      "Epoch 23/25\n",
      "5/5 [==============================] - 0s 10ms/step - loss: 0.0468 - mean_absolute_error: 0.1390 - val_loss: 0.0090 - val_mean_absolute_error: 0.0812\n",
      "Epoch 24/25\n",
      "5/5 [==============================] - 0s 10ms/step - loss: 0.0441 - mean_absolute_error: 0.1338 - val_loss: 0.0096 - val_mean_absolute_error: 0.0844\n",
      "Epoch 25/25\n",
      "5/5 [==============================] - 0s 10ms/step - loss: 0.0444 - mean_absolute_error: 0.1339 - val_loss: 0.0102 - val_mean_absolute_error: 0.0877\n"
     ]
    }
   ],
   "source": [
    "model.compile(loss=tf.losses.MeanSquaredError(),\n",
    "             optimizer=tf.optimizers.Adam(),\n",
    "             metrics=[tf.metrics.MeanAbsoluteError()]\n",
    ")\n",
    "\n",
    "history = model.fit(train_generator,epochs=25,\n",
    "                             validation_data=test_generator,\n",
    "                             shuffle=False,\n",
    ")"
   ]
  },
  {
   "cell_type": "code",
   "execution_count": 21,
   "id": "50a6efd2-ae16-4619-907b-2111487933cf",
   "metadata": {},
   "outputs": [],
   "source": [
    "model.save('amazone_prediction.h5')"
   ]
  },
  {
   "cell_type": "code",
   "execution_count": 22,
   "id": "1d3433de-6f05-4099-97e9-2bc98a9c82c7",
   "metadata": {},
   "outputs": [
    {
     "name": "stderr",
     "output_type": "stream",
     "text": [
      "C:\\Users\\aayus\\AppData\\Local\\Temp\\ipykernel_6764\\1625521884.py:1: UserWarning: `Model.evaluate_generator` is deprecated and will be removed in a future version. Please use `Model.evaluate`, which supports generators.\n",
      "  model.evaluate_generator(test_generator, verbose=0)\n"
     ]
    },
    {
     "data": {
      "text/plain": [
       "[0.010188579559326172, 0.08772844821214676]"
      ]
     },
     "execution_count": 22,
     "metadata": {},
     "output_type": "execute_result"
    }
   ],
   "source": [
    "model.evaluate_generator(test_generator, verbose=0)"
   ]
  },
  {
   "cell_type": "code",
   "execution_count": 23,
   "id": "58b4c0ef-0034-4dbb-829d-e2bf7b10a0b3",
   "metadata": {},
   "outputs": [
    {
     "name": "stderr",
     "output_type": "stream",
     "text": [
      "C:\\Users\\aayus\\AppData\\Local\\Temp\\ipykernel_6764\\3104476467.py:1: UserWarning: `Model.predict_generator` is deprecated and will be removed in a future version. Please use `Model.predict`, which supports generators.\n",
      "  prediction=model.predict_generator(test_generator)\n"
     ]
    }
   ],
   "source": [
    "prediction=model.predict_generator(test_generator)"
   ]
  },
  {
   "cell_type": "code",
   "execution_count": 24,
   "id": "15db949b-6139-4316-923d-84c220f1dfff",
   "metadata": {},
   "outputs": [
    {
     "data": {
      "text/plain": [
       "10"
      ]
     },
     "execution_count": 24,
     "metadata": {},
     "output_type": "execute_result"
    }
   ],
   "source": [
    "prediction.shape[0]"
   ]
  },
  {
   "cell_type": "code",
   "execution_count": 25,
   "id": "5bf5859a-82ee-47f3-8ede-07287192f002",
   "metadata": {},
   "outputs": [
    {
     "data": {
      "text/plain": [
       "array([[0.18473901],\n",
       "       [0.18190113],\n",
       "       [0.1806054 ],\n",
       "       [0.17957476],\n",
       "       [0.1792715 ],\n",
       "       [0.17785022],\n",
       "       [0.17935039],\n",
       "       [0.1803875 ],\n",
       "       [0.16625756],\n",
       "       [0.16785488]], dtype=float32)"
      ]
     },
     "execution_count": 25,
     "metadata": {},
     "output_type": "execute_result"
    }
   ],
   "source": [
    "prediction"
   ]
  },
  {
   "cell_type": "code",
   "execution_count": 26,
   "id": "38aa64fc-cbf4-490e-9285-a3580ef5097b",
   "metadata": {},
   "outputs": [
    {
     "data": {
      "text/plain": [
       "array([0.10192823, 0.08067564, 0.06983888, 0.06372193, 0.0569512 ,\n",
       "       0.0406065 , 0.05333298, 0.05935141, 0.15677638, 0.15850241,\n",
       "       0.16075053])"
      ]
     },
     "execution_count": 26,
     "metadata": {},
     "output_type": "execute_result"
    }
   ],
   "source": [
    "y_test"
   ]
  },
  {
   "cell_type": "code",
   "execution_count": 27,
   "id": "0a229eef-27f9-466a-a08d-5b357dae1c4f",
   "metadata": {},
   "outputs": [
    {
     "data": {
      "text/plain": [
       "array([[0.10192823, 0.03212249, 0.04268293],\n",
       "       [0.08067564, 0.02858001, 0.04573171],\n",
       "       [0.06983888, 0.02131492, 0.04878049],\n",
       "       [0.06372193, 0.02125488, 0.05182927],\n",
       "       [0.0569512 , 0.01435005, 0.04878049],\n",
       "       [0.0406065 , 0.        , 0.04878049],\n",
       "       [0.05333298, 0.00798559, 0.04573171],\n",
       "       [0.05935141, 0.00762534, 0.04268293],\n",
       "       [0.15677638, 0.29918943, 0.19536585],\n",
       "       [0.15850241, 0.28625518, 0.18640732],\n",
       "       [0.16075053, 0.27261553, 0.17013546]])"
      ]
     },
     "execution_count": 27,
     "metadata": {},
     "output_type": "execute_result"
    }
   ],
   "source": [
    "x_test"
   ]
  },
  {
   "cell_type": "code",
   "execution_count": 28,
   "id": "ba6b8c80-c614-4248-850f-287360ca722f",
   "metadata": {},
   "outputs": [
    {
     "data": {
      "text/plain": [
       "array([[0.02858001, 0.04573171],\n",
       "       [0.02131492, 0.04878049],\n",
       "       [0.02125488, 0.05182927],\n",
       "       [0.01435005, 0.04878049],\n",
       "       [0.        , 0.04878049],\n",
       "       [0.00798559, 0.04573171],\n",
       "       [0.00762534, 0.04268293],\n",
       "       [0.29918943, 0.19536585],\n",
       "       [0.28625518, 0.18640732],\n",
       "       [0.27261553, 0.17013546]])"
      ]
     },
     "execution_count": 28,
     "metadata": {},
     "output_type": "execute_result"
    }
   ],
   "source": [
    "x_test[:,1:][win_length:]"
   ]
  },
  {
   "cell_type": "code",
   "execution_count": 29,
   "id": "2354f286-f71c-480a-9dab-1f5926f98976",
   "metadata": {},
   "outputs": [],
   "source": [
    "df_pred = pd.concat([pd.DataFrame(prediction), pd.DataFrame(x_test[:,1:][win_length:])],axis=1)"
   ]
  },
  {
   "cell_type": "code",
   "execution_count": 30,
   "id": "817a7d0b-95e1-48bb-b29a-7e9e3e1d7c61",
   "metadata": {},
   "outputs": [],
   "source": [
    "rev_transform = scaler.inverse_transform(df_pred)"
   ]
  },
  {
   "cell_type": "code",
   "execution_count": 31,
   "id": "1126e601-93f8-41db-baed-20086758b95f",
   "metadata": {},
   "outputs": [
    {
     "data": {
      "text/plain": [
       "array([[2.06274035e+02, 1.02200000e+01, 1.10000000e-01],\n",
       "       [2.03105341e+02, 9.01000000e+00, 1.20000000e-01],\n",
       "       [2.01658568e+02, 9.00000000e+00, 1.30000000e-01],\n",
       "       [2.00507787e+02, 7.85000000e+00, 1.20000000e-01],\n",
       "       [2.00169184e+02, 5.46000000e+00, 1.20000000e-01],\n",
       "       [1.98582216e+02, 6.79000000e+00, 1.10000000e-01],\n",
       "       [2.00257266e+02, 6.73000000e+00, 1.00000000e-01],\n",
       "       [2.01415267e+02, 5.52900000e+01, 6.00800000e-01],\n",
       "       [1.85638204e+02, 5.31358000e+01, 5.71416000e-01],\n",
       "       [1.87421718e+02, 5.08641160e+01, 5.18044320e-01]])"
      ]
     },
     "execution_count": 31,
     "metadata": {},
     "output_type": "execute_result"
    }
   ],
   "source": [
    "rev_transform"
   ]
  },
  {
   "cell_type": "code",
   "execution_count": 32,
   "id": "8df433bc-306d-46c0-8c76-6528e6df2e14",
   "metadata": {},
   "outputs": [],
   "source": [
    "df_final = df_input[prediction.shape[0]*-1:]"
   ]
  },
  {
   "cell_type": "code",
   "execution_count": 33,
   "id": "9b495643-7a6f-4015-9118-7ebda17c9eff",
   "metadata": {},
   "outputs": [
    {
     "name": "stderr",
     "output_type": "stream",
     "text": [
      "C:\\Users\\aayus\\AppData\\Local\\Temp\\ipykernel_6764\\3772768420.py:1: SettingWithCopyWarning: \n",
      "A value is trying to be set on a copy of a slice from a DataFrame.\n",
      "Try using .loc[row_indexer,col_indexer] = value instead\n",
      "\n",
      "See the caveats in the documentation: https://pandas.pydata.org/pandas-docs/stable/user_guide/indexing.html#returning-a-view-versus-a-copy\n",
      "  df_final['predicted']=rev_transform[:,0]\n"
     ]
    }
   ],
   "source": [
    "df_final['predicted']=rev_transform[:,0]"
   ]
  },
  {
   "cell_type": "code",
   "execution_count": 34,
   "id": "9fedbbc7-08ad-47a6-90ab-da45908e5bf2",
   "metadata": {},
   "outputs": [
    {
     "data": {
      "text/html": [
       "<div>\n",
       "<style scoped>\n",
       "    .dataframe tbody tr th:only-of-type {\n",
       "        vertical-align: middle;\n",
       "    }\n",
       "\n",
       "    .dataframe tbody tr th {\n",
       "        vertical-align: top;\n",
       "    }\n",
       "\n",
       "    .dataframe thead th {\n",
       "        text-align: right;\n",
       "    }\n",
       "</style>\n",
       "<table border=\"1\" class=\"dataframe\">\n",
       "  <thead>\n",
       "    <tr style=\"text-align: right;\">\n",
       "      <th></th>\n",
       "      <th>PE_Ratio</th>\n",
       "      <th>Stock_Price</th>\n",
       "      <th>TTM_Net_EPS</th>\n",
       "      <th>predicted</th>\n",
       "    </tr>\n",
       "    <tr>\n",
       "      <th>Date</th>\n",
       "      <th></th>\n",
       "      <th></th>\n",
       "      <th></th>\n",
       "      <th></th>\n",
       "    </tr>\n",
       "  </thead>\n",
       "  <tbody>\n",
       "    <tr>\n",
       "      <th>2011-06-30</th>\n",
       "      <td>90.080000</td>\n",
       "      <td>10.220000</td>\n",
       "      <td>0.110000</td>\n",
       "      <td>206.274035</td>\n",
       "    </tr>\n",
       "    <tr>\n",
       "      <th>2011-03-31</th>\n",
       "      <td>77.980000</td>\n",
       "      <td>9.010000</td>\n",
       "      <td>0.120000</td>\n",
       "      <td>203.105341</td>\n",
       "    </tr>\n",
       "    <tr>\n",
       "      <th>2010-12-31</th>\n",
       "      <td>71.150000</td>\n",
       "      <td>9.000000</td>\n",
       "      <td>0.130000</td>\n",
       "      <td>201.658568</td>\n",
       "    </tr>\n",
       "    <tr>\n",
       "      <th>2010-09-30</th>\n",
       "      <td>63.590000</td>\n",
       "      <td>7.850000</td>\n",
       "      <td>0.120000</td>\n",
       "      <td>200.507787</td>\n",
       "    </tr>\n",
       "    <tr>\n",
       "      <th>2010-06-30</th>\n",
       "      <td>45.340000</td>\n",
       "      <td>5.460000</td>\n",
       "      <td>0.120000</td>\n",
       "      <td>200.169184</td>\n",
       "    </tr>\n",
       "    <tr>\n",
       "      <th>2010-03-31</th>\n",
       "      <td>59.550000</td>\n",
       "      <td>6.790000</td>\n",
       "      <td>0.110000</td>\n",
       "      <td>198.582216</td>\n",
       "    </tr>\n",
       "    <tr>\n",
       "      <th>2009-12-31</th>\n",
       "      <td>66.270000</td>\n",
       "      <td>6.730000</td>\n",
       "      <td>0.100000</td>\n",
       "      <td>200.257266</td>\n",
       "    </tr>\n",
       "    <tr>\n",
       "      <th>2009-09-30</th>\n",
       "      <td>175.051800</td>\n",
       "      <td>55.290000</td>\n",
       "      <td>0.600800</td>\n",
       "      <td>201.415267</td>\n",
       "    </tr>\n",
       "    <tr>\n",
       "      <th>2009-06-30</th>\n",
       "      <td>176.979036</td>\n",
       "      <td>53.135800</td>\n",
       "      <td>0.571416</td>\n",
       "      <td>185.638204</td>\n",
       "    </tr>\n",
       "    <tr>\n",
       "      <th>2009-03-31</th>\n",
       "      <td>179.489217</td>\n",
       "      <td>50.864116</td>\n",
       "      <td>0.518044</td>\n",
       "      <td>187.421718</td>\n",
       "    </tr>\n",
       "  </tbody>\n",
       "</table>\n",
       "</div>"
      ],
      "text/plain": [
       "              PE_Ratio  Stock_Price  TTM_Net_EPS   predicted\n",
       "Date                                                        \n",
       "2011-06-30   90.080000    10.220000     0.110000  206.274035\n",
       "2011-03-31   77.980000     9.010000     0.120000  203.105341\n",
       "2010-12-31   71.150000     9.000000     0.130000  201.658568\n",
       "2010-09-30   63.590000     7.850000     0.120000  200.507787\n",
       "2010-06-30   45.340000     5.460000     0.120000  200.169184\n",
       "2010-03-31   59.550000     6.790000     0.110000  198.582216\n",
       "2009-12-31   66.270000     6.730000     0.100000  200.257266\n",
       "2009-09-30  175.051800    55.290000     0.600800  201.415267\n",
       "2009-06-30  176.979036    53.135800     0.571416  185.638204\n",
       "2009-03-31  179.489217    50.864116     0.518044  187.421718"
      ]
     },
     "execution_count": 34,
     "metadata": {},
     "output_type": "execute_result"
    }
   ],
   "source": [
    "df_final"
   ]
  },
  {
   "cell_type": "code",
   "execution_count": 37,
   "id": "527f9f91-aecd-4e8f-af21-0ce8e7916496",
   "metadata": {},
   "outputs": [
    {
     "name": "stderr",
     "output_type": "stream",
     "text": [
      "No artists with labels found to put in legend.  Note that artists whose label start with an underscore are ignored when legend() is called with no argument.\n"
     ]
    },
    {
     "data": {
      "image/png": "[encoded data removed]",
      "text/plain": [
       "<Figure size 864x432 with 1 Axes>"
      ]
     },
     "metadata": {
      "needs_background": "light"
     },
     "output_type": "display_data"
    }
   ],
   "source": [
    "plt.figure(figsize=(12,6))\n",
    "plt.plot(df_final['PE_Ratio'],'r')\n",
    "plt.plot(df_final['predicted'],'b')\n",
    "plt.xlabel('Time')\n",
    "plt.ylabel('Price')\n",
    "plt.legend()\n",
    "plt.show()"
   ]
  },
  {
   "cell_type": "code",
   "execution_count": null,
   "id": "cb120070-c068-4e82-8593-a4eb6bfa2591",
   "metadata": {},
   "outputs": [],
   "source": []
  }
 ],
 "metadata": {
  "kernelspec": {
   "display_name": "Python 3 (ipykernel)",
   "language": "python",
   "name": "python3"
  },
  "language_info": {
   "codemirror_mode": {
    "name": "ipython",
    "version": 3
   },
   "file_extension": ".py",
   "mimetype": "text/x-python",
   "name": "python",
   "nbconvert_exporter": "python",
   "pygments_lexer": "ipython3",
   "version": "3.9.12"
  }
 },
 "nbformat": 4,
 "nbformat_minor": 5
}
